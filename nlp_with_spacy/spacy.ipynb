{
 "cells": [
  {
   "cell_type": "markdown",
   "metadata": {},
   "source": [
    "# 📚 Import Libraries"
   ]
  },
  {
   "cell_type": "code",
   "execution_count": 1,
   "metadata": {},
   "outputs": [],
   "source": [
    "import spacy"
   ]
  },
  {
   "cell_type": "markdown",
   "metadata": {},
   "source": [
    "# 🌱 NLP spaCy Instance"
   ]
  },
  {
   "cell_type": "code",
   "execution_count": 2,
   "metadata": {},
   "outputs": [],
   "source": [
    "nlp = spacy.load('en_core_web_lg')"
   ]
  },
  {
   "cell_type": "code",
   "execution_count": 3,
   "metadata": {},
   "outputs": [
    {
     "data": {
      "text/plain": [
       "spacy.lang.en.English"
      ]
     },
     "execution_count": 3,
     "metadata": {},
     "output_type": "execute_result"
    }
   ],
   "source": [
    "type(nlp)"
   ]
  },
  {
   "cell_type": "code",
   "execution_count": 4,
   "metadata": {},
   "outputs": [
    {
     "name": "stdout",
     "output_type": "stream",
     "text": [
      "['tok2vec', 'tagger', 'parser', 'attribute_ruler', 'lemmatizer', 'ner']\n"
     ]
    }
   ],
   "source": [
    "print(nlp.pipe_names)"
   ]
  },
  {
   "cell_type": "markdown",
   "metadata": {},
   "source": [
    "# ⚙️ Processing a Text"
   ]
  },
  {
   "cell_type": "code",
   "execution_count": 10,
   "metadata": {},
   "outputs": [],
   "source": [
    "text = (\n",
    "    \"\"\"\n",
    "    When Sebastian Thrun started working on self-driving cars at\n",
    "    Google in 2007, few people outside of the company took him\n",
    "    seriously. “I can tell you very senior CEOs of major American\n",
    "    car companies would shake my hand and turn away because I wasn't\n",
    "    worth talking to,” said Thrun, in an interview with Recode earlier\n",
    "    this week.\n",
    "    \"\"\"\n",
    ")"
   ]
  },
  {
   "cell_type": "code",
   "execution_count": 11,
   "metadata": {},
   "outputs": [],
   "source": [
    "doc = nlp(text)"
   ]
  },
  {
   "cell_type": "code",
   "execution_count": 14,
   "metadata": {},
   "outputs": [
    {
     "data": {
      "text/plain": [
       "spacy.tokens.doc.Doc"
      ]
     },
     "execution_count": 14,
     "metadata": {},
     "output_type": "execute_result"
    }
   ],
   "source": [
    "type(doc)"
   ]
  },
  {
   "cell_type": "code",
   "execution_count": 30,
   "metadata": {},
   "outputs": [
    {
     "data": {
      "text/plain": [
       "73"
      ]
     },
     "execution_count": 30,
     "metadata": {},
     "output_type": "execute_result"
    }
   ],
   "source": [
    "len(doc)"
   ]
  },
  {
   "cell_type": "code",
   "execution_count": 13,
   "metadata": {},
   "outputs": [
    {
     "data": {
      "text/plain": [
       "817"
      ]
     },
     "execution_count": 13,
     "metadata": {},
     "output_type": "execute_result"
    }
   ],
   "source": [
    "len(doc.vocab)"
   ]
  },
  {
   "cell_type": "code",
   "execution_count": 31,
   "metadata": {},
   "outputs": [
    {
     "data": {
      "text/plain": [
       "Sebastian Thrun started"
      ]
     },
     "execution_count": 31,
     "metadata": {},
     "output_type": "execute_result"
    }
   ],
   "source": [
    "doc[2:5]"
   ]
  },
  {
   "cell_type": "markdown",
   "metadata": {},
   "source": [
    "# 🎫 Tokens"
   ]
  },
  {
   "cell_type": "markdown",
   "metadata": {},
   "source": [
    "## Text"
   ]
  },
  {
   "cell_type": "code",
   "execution_count": 32,
   "metadata": {},
   "outputs": [
    {
     "name": "stdout",
     "output_type": "stream",
     "text": [
      "Text: ['\\n    ', 'When', 'Sebastian', 'Thrun', 'started', 'working', 'on', 'self', '-', 'driving', 'cars', 'at', '\\n    ', 'Google', 'in', '2007', ',', 'few', 'people', 'outside', 'of', 'the', 'company', 'took', 'him', '\\n    ', 'seriously', '.', '“', 'I', 'can', 'tell', 'you', 'very', 'senior', 'CEOs', 'of', 'major', 'American', '\\n    ', 'car', 'companies', 'would', 'shake', 'my', 'hand', 'and', 'turn', 'away', 'because', 'I', 'was', \"n't\", '\\n    ', 'worth', 'talking', 'to', ',', '”', 'said', 'Thrun', ',', 'in', 'an', 'interview', 'with', 'Recode', 'earlier', '\\n    ', 'this', 'week', '.', '\\n    ']\n"
     ]
    }
   ],
   "source": [
    "print(\"Text:\", [token.text for token in doc])"
   ]
  },
  {
   "cell_type": "markdown",
   "metadata": {},
   "source": [
    "## Stop Words\n"
   ]
  },
  {
   "cell_type": "code",
   "execution_count": 52,
   "metadata": {},
   "outputs": [
    {
     "name": "stdout",
     "output_type": "stream",
     "text": [
      "Stop Words: ['When', 'on', 'at', 'in', 'few', 'of', 'the', 'him', 'I', 'can', 'you', 'very', 'of', 'would', 'my', 'and', 'because', 'I', 'was', \"n't\", 'to', 'in', 'an', 'with', 'this']\n"
     ]
    }
   ],
   "source": [
    "print(\"Stop Words:\", [token.text for token in doc if token.is_stop])"
   ]
  },
  {
   "cell_type": "code",
   "execution_count": 51,
   "metadata": {},
   "outputs": [],
   "source": [
    "nlp.Defaults.stop_words.add(\"btw\")\n",
    "nlp.vocab[\"btw\"].is_stop = True"
   ]
  },
  {
   "cell_type": "code",
   "execution_count": 56,
   "metadata": {},
   "outputs": [
    {
     "data": {
      "text/plain": [
       "True"
      ]
     },
     "execution_count": 56,
     "metadata": {},
     "output_type": "execute_result"
    }
   ],
   "source": [
    "nlp.vocab[\"btw\"].is_stop"
   ]
  },
  {
   "cell_type": "markdown",
   "metadata": {},
   "source": [
    "## Alphanumeric"
   ]
  },
  {
   "cell_type": "code",
   "execution_count": 34,
   "metadata": {},
   "outputs": [
    {
     "name": "stdout",
     "output_type": "stream",
     "text": [
      "Alpha Numeric:  ['When', 'Sebastian', 'Thrun', 'started', 'working', 'on', 'self', 'driving', 'cars', 'at', 'Google', 'in', 'few', 'people', 'outside', 'of', 'the', 'company', 'took', 'him', 'seriously', 'I', 'can', 'tell', 'you', 'very', 'senior', 'CEOs', 'of', 'major', 'American', 'car', 'companies', 'would', 'shake', 'my', 'hand', 'and', 'turn', 'away', 'because', 'I', 'was', 'worth', 'talking', 'to', 'said', 'Thrun', 'in', 'an', 'interview', 'with', 'Recode', 'earlier', 'this', 'week']\n"
     ]
    }
   ],
   "source": [
    "print(\"Alpha Numeric: \", [token.text for token in doc if token.is_alpha])"
   ]
  },
  {
   "cell_type": "markdown",
   "metadata": {},
   "source": [
    "## Capitalization"
   ]
  },
  {
   "cell_type": "code",
   "execution_count": 35,
   "metadata": {},
   "outputs": [
    {
     "name": "stdout",
     "output_type": "stream",
     "text": [
      "Capitalized:  ['When', 'Sebastian', 'Thrun', 'Google', 'I', 'American', 'I', 'Thrun', 'Recode']\n"
     ]
    }
   ],
   "source": [
    "print(\"Capitalized: \", [token.text for token in doc if token.is_title])"
   ]
  },
  {
   "cell_type": "markdown",
   "metadata": {},
   "source": [
    "## Ponctuation"
   ]
  },
  {
   "cell_type": "code",
   "execution_count": 37,
   "metadata": {},
   "outputs": [
    {
     "name": "stdout",
     "output_type": "stream",
     "text": [
      "Pontuation:  ['-', ',', '.', '“', ',', '”', ',', '.']\n"
     ]
    }
   ],
   "source": [
    "print(\"Pontuation: \", [token.text for token in doc if token.is_punct])"
   ]
  },
  {
   "cell_type": "markdown",
   "metadata": {},
   "source": [
    "## Numerical"
   ]
  },
  {
   "cell_type": "code",
   "execution_count": 38,
   "metadata": {},
   "outputs": [
    {
     "name": "stdout",
     "output_type": "stream",
     "text": [
      "Numerical:  ['2007']\n"
     ]
    }
   ],
   "source": [
    "print(\"Numerical: \", [token.text for token in doc if token.like_num])"
   ]
  },
  {
   "cell_type": "markdown",
   "metadata": {},
   "source": [
    "## Sentence"
   ]
  },
  {
   "cell_type": "code",
   "execution_count": 39,
   "metadata": {},
   "outputs": [
    {
     "name": "stdout",
     "output_type": "stream",
     "text": [
      "Sentences:  ['\\n    ', 'When Sebastian Thrun started working on self-driving cars at\\n    Google in 2007, few people outside of the company took him\\n    seriously.', \"“I can tell you very senior CEOs of major American\\n    car companies would shake my hand and turn away because I wasn't\\n    worth talking to,” said Thrun, in an interview with Recode earlier\\n    this week.\\n    \"]\n"
     ]
    }
   ],
   "source": [
    "print(\"Sentences: \", [sent.text for sent in doc.sents])"
   ]
  },
  {
   "cell_type": "markdown",
   "metadata": {},
   "source": [
    "## Shape"
   ]
  },
  {
   "cell_type": "code",
   "execution_count": 41,
   "metadata": {},
   "outputs": [
    {
     "name": "stdout",
     "output_type": "stream",
     "text": [
      "Shape:  ['\\n    ', 'Xxxx', 'Xxxxx', 'Xxxxx', 'xxxx', 'xxxx', 'xx', 'xxxx', '-', 'xxxx', 'xxxx', 'xx', '\\n    ', 'Xxxxx', 'xx', 'dddd', ',', 'xxx', 'xxxx', 'xxxx', 'xx', 'xxx', 'xxxx', 'xxxx', 'xxx', '\\n    ', 'xxxx', '.', '“', 'X', 'xxx', 'xxxx', 'xxx', 'xxxx', 'xxxx', 'XXXx', 'xx', 'xxxx', 'Xxxxx', '\\n    ', 'xxx', 'xxxx', 'xxxx', 'xxxx', 'xx', 'xxxx', 'xxx', 'xxxx', 'xxxx', 'xxxx', 'X', 'xxx', \"x'x\", '\\n    ', 'xxxx', 'xxxx', 'xx', ',', '”', 'xxxx', 'Xxxxx', ',', 'xx', 'xx', 'xxxx', 'xxxx', 'Xxxxx', 'xxxx', '\\n    ', 'xxxx', 'xxxx', '.', '\\n    ']\n"
     ]
    }
   ],
   "source": [
    "print(\"Shape: \", [token.shape_ for token in doc])"
   ]
  },
  {
   "cell_type": "markdown",
   "metadata": {},
   "source": [
    "## Part of Speech (POS)"
   ]
  },
  {
   "cell_type": "code",
   "execution_count": 42,
   "metadata": {},
   "outputs": [
    {
     "name": "stdout",
     "output_type": "stream",
     "text": [
      "POS:  ['SPACE', 'SCONJ', 'PROPN', 'PROPN', 'VERB', 'VERB', 'ADP', 'NOUN', 'PUNCT', 'VERB', 'NOUN', 'ADP', 'SPACE', 'PROPN', 'ADP', 'NUM', 'PUNCT', 'ADJ', 'NOUN', 'ADP', 'ADP', 'DET', 'NOUN', 'VERB', 'PRON', 'SPACE', 'ADV', 'PUNCT', 'PUNCT', 'PRON', 'AUX', 'VERB', 'PRON', 'ADV', 'ADJ', 'NOUN', 'ADP', 'ADJ', 'ADJ', 'SPACE', 'NOUN', 'NOUN', 'AUX', 'VERB', 'PRON', 'NOUN', 'CCONJ', 'VERB', 'ADV', 'SCONJ', 'PRON', 'AUX', 'PART', 'SPACE', 'ADJ', 'VERB', 'ADP', 'PUNCT', 'PUNCT', 'VERB', 'PROPN', 'PUNCT', 'ADP', 'DET', 'NOUN', 'ADP', 'PROPN', 'ADV', 'SPACE', 'DET', 'NOUN', 'PUNCT', 'SPACE']\n"
     ]
    }
   ],
   "source": [
    "print(\"POS: \", [token.pos_ for token in doc])"
   ]
  },
  {
   "cell_type": "markdown",
   "metadata": {},
   "source": [
    "## Dependency Parsing"
   ]
  },
  {
   "cell_type": "code",
   "execution_count": 43,
   "metadata": {},
   "outputs": [
    {
     "name": "stdout",
     "output_type": "stream",
     "text": [
      "Dependency:  ['dep', 'advmod', 'compound', 'nsubj', 'advcl', 'xcomp', 'prep', 'npadvmod', 'punct', 'amod', 'pobj', 'prep', 'dep', 'pobj', 'prep', 'pobj', 'punct', 'amod', 'nsubj', 'advmod', 'prep', 'det', 'pobj', 'ROOT', 'dobj', 'dep', 'advmod', 'punct', 'punct', 'nsubj', 'aux', 'ccomp', 'dative', 'advmod', 'amod', 'nsubj', 'prep', 'amod', 'amod', 'dep', 'compound', 'pobj', 'aux', 'ccomp', 'poss', 'dobj', 'cc', 'conj', 'advmod', 'mark', 'nsubj', 'advcl', 'neg', 'dep', 'acomp', 'xcomp', 'prep', 'punct', 'punct', 'ROOT', 'nsubj', 'punct', 'prep', 'det', 'pobj', 'prep', 'pobj', 'advmod', 'dep', 'det', 'npadvmod', 'punct', 'dep']\n"
     ]
    }
   ],
   "source": [
    "print(\"Dependency: \", [token.dep_ for token in doc])"
   ]
  },
  {
   "cell_type": "markdown",
   "metadata": {},
   "source": [
    "## Lemmatization"
   ]
  },
  {
   "cell_type": "code",
   "execution_count": 45,
   "metadata": {},
   "outputs": [
    {
     "name": "stdout",
     "output_type": "stream",
     "text": [
      "Lemma:  ['\\n    ', 'when', 'Sebastian', 'Thrun', 'start', 'work', 'on', 'self', '-', 'drive', 'car', 'at', '\\n    ', 'Google', 'in', '2007', ',', 'few', 'people', 'outside', 'of', 'the', 'company', 'take', 'he', '\\n    ', 'seriously', '.', '\"', 'I', 'can', 'tell', 'you', 'very', 'senior', 'ceo', 'of', 'major', 'american', '\\n    ', 'car', 'company', 'would', 'shake', 'my', 'hand', 'and', 'turn', 'away', 'because', 'I', 'be', \"n't\", '\\n    ', 'worth', 'talk', 'to', ',', '\"', 'say', 'Thrun', ',', 'in', 'an', 'interview', 'with', 'Recode', 'early', '\\n    ', 'this', 'week', '.', '\\n    ']\n"
     ]
    }
   ],
   "source": [
    "print(\"Lemma: \", [token.lemma_ for token in doc])"
   ]
  },
  {
   "cell_type": "markdown",
   "metadata": {},
   "source": [
    "## Morphologic"
   ]
  },
  {
   "cell_type": "code",
   "execution_count": 46,
   "metadata": {},
   "outputs": [
    {
     "name": "stdout",
     "output_type": "stream",
     "text": [
      "Morph:  [, , Number=Sing, Number=Sing, Tense=Past|VerbForm=Fin, Aspect=Prog|Tense=Pres|VerbForm=Part, , Number=Sing, PunctType=Dash, Aspect=Prog|Tense=Pres|VerbForm=Part, Number=Plur, , , Number=Sing, , NumType=Card, PunctType=Comm, Degree=Pos, Number=Plur, , , Definite=Def|PronType=Art, Number=Sing, Tense=Past|VerbForm=Fin, Case=Acc|Gender=Masc|Number=Sing|Person=3|PronType=Prs, , , PunctType=Peri, PunctSide=Ini|PunctType=Quot, Case=Nom|Number=Sing|Person=1|PronType=Prs, VerbForm=Fin, VerbForm=Inf, Person=2|PronType=Prs, , Degree=Pos, Number=Plur, , Degree=Pos, Degree=Pos, , Number=Sing, Number=Plur, VerbForm=Fin, VerbForm=Inf, Number=Sing|Person=1|Poss=Yes|PronType=Prs, Number=Sing, ConjType=Cmp, VerbForm=Inf, , , Case=Nom|Number=Sing|Person=1|PronType=Prs, Mood=Ind|Number=Sing|Person=3|Tense=Past|VerbForm=Fin, Polarity=Neg, , Degree=Pos, Aspect=Prog|Tense=Pres|VerbForm=Part, , PunctType=Comm, PunctSide=Fin|PunctType=Quot, Tense=Past|VerbForm=Fin, Number=Sing, PunctType=Comm, , Definite=Ind|PronType=Art, Number=Sing, , Number=Sing, Degree=Cmp, , Number=Sing|PronType=Dem, Number=Sing, PunctType=Peri, ]\n"
     ]
    }
   ],
   "source": [
    "print(\"Morph: \", [token.morph for token in doc])"
   ]
  },
  {
   "cell_type": "markdown",
   "metadata": {},
   "source": [
    "## Hash"
   ]
  },
  {
   "cell_type": "code",
   "execution_count": 64,
   "metadata": {},
   "outputs": [
    {
     "name": "stdout",
     "output_type": "stream",
     "text": [
      "Hash:  [16653187200892370574, 10109588199364727116, 12362118327459407872, 16657122835442862368, 17976686883172633439, 16009546102277334650, 5640369432778651323, 10899396943792836290, 9153284864653046197, 10545042384170783628, 13017550054122039847, 11667289587015813222, 16653187200892370574, 11578853341595296054, 3002984154512732771, 4146535246006245184, 2593208677638477497, 11866476999679706272, 7593739049417968140, 12341974070768608367, 886050111519832510, 7425985699627899538, 6905553075311563409, 1524062747651706878, 1739263527992748485, 16653187200892370574, 6593976590948586841, 12646065887601541794, 16073121960489476521, 4690420944186131903, 6635067063807956629, 63172552626595070, 7624161793554793053, 9548244504980166557, 17934676104927248284, 7691720269263716612, 886050111519832510, 8334407161178086546, 8947108287989031391, 16653187200892370574, 17545852598994811774, 8026612326651866097, 6992604926141104606, 9100562122183665148, 227504873216781231, 10690717480206833971, 2283656566040971221, 7124218691546400199, 15726112966383307120, 16950148841647037698, 4690420944186131903, 9921686513378912864, 2043519015752540944, 16653187200892370574, 12282438651404021516, 3577425109143670181, 3791531372978436496, 2593208677638477497, 6756288415164046634, 17573686707662795042, 16657122835442862368, 2593208677638477497, 3002984154512732771, 15099054000809333061, 14070363061372230176, 12510949447758279278, 6434403556567288861, 13089353252109001829, 16653187200892370574, 1995909169258310477, 14249255431398666181, 12646065887601541794, 16653187200892370574]\n"
     ]
    }
   ],
   "source": [
    "print(\"Hash: \", [token.orth for token in doc])"
   ]
  },
  {
   "cell_type": "markdown",
   "metadata": {},
   "source": [
    "# 🏷️ Entity"
   ]
  },
  {
   "cell_type": "code",
   "execution_count": 50,
   "metadata": {},
   "outputs": [
    {
     "name": "stdout",
     "output_type": "stream",
     "text": [
      "Entity:  [('Sebastian Thrun', 'PERSON'), ('2007', 'DATE'), ('American\\n    ', 'ORG'), ('Thrun', 'GPE'), ('Recode earlier\\n    ', 'ORG'), ('this week', 'DATE')]\n"
     ]
    }
   ],
   "source": [
    "print(\"Entity: \", [(ent.text, ent.label_) for ent in doc.ents])"
   ]
  },
  {
   "cell_type": "markdown",
   "metadata": {},
   "source": [
    "# ⚗️ Treating Stop Words"
   ]
  },
  {
   "cell_type": "code",
   "execution_count": 60,
   "metadata": {},
   "outputs": [
    {
     "name": "stdout",
     "output_type": "stream",
     "text": [
      "Tokens with stop words:  {'major', 'talking', 'Sebastian', 'him', 'with', 'company', 'senior', '-', 'to', 'my', 'American', 'turn', 'few', 'an', 'outside', 'earlier', 'this', 'CEOs', 'on', '”', 'seriously', 'working', ',', \"n't\", 'I', '.', '2007', 'was', 'car', 'said', '\\n    ', 'you', 'self', 'can', 'When', 'hand', 'because', 'worth', 'driving', '“', 'Recode', 'and', 'very', 'companies', 'interview', 'week', 'away', 'the', 'shake', 'would', 'tell', 'Google', 'at', 'Thrun', 'cars', 'took', 'started', 'in', 'of', 'people'}\n",
      "Tokens without stop words:  {'major', 'talking', 'Sebastian', 'company', 'senior', '-', 'American', 'turn', 'earlier', 'outside', 'CEOs', '”', 'seriously', 'working', ',', 'I', '.', '2007', 'car', 'said', '\\n    ', 'worth', 'self', 'When', 'hand', 'driving', '“', 'Recode', 'companies', 'interview', 'week', 'away', 'shake', 'tell', 'Google', 'Thrun', 'cars', 'took', 'started', 'people'}\n"
     ]
    }
   ],
   "source": [
    "stop_words = set(nlp.Defaults.stop_words)\n",
    "doc_tokens = set([token.text for token in doc])\n",
    "\n",
    "tokens_without_sw = doc_tokens - stop_words\n",
    "\n",
    "print(\"Tokens with stop words: \", doc_tokens)\n",
    "print(\"Tokens without stop words: \", tokens_without_sw)"
   ]
  },
  {
   "cell_type": "markdown",
   "metadata": {},
   "source": [
    "# 📖 Vocab"
   ]
  },
  {
   "cell_type": "code",
   "execution_count": 65,
   "metadata": {},
   "outputs": [
    {
     "data": {
      "text/plain": [
       "8334407161178086546"
      ]
     },
     "execution_count": 65,
     "metadata": {},
     "output_type": "execute_result"
    }
   ],
   "source": [
    "nlp.vocab.strings[\"major\"]"
   ]
  },
  {
   "cell_type": "code",
   "execution_count": 66,
   "metadata": {},
   "outputs": [
    {
     "data": {
      "text/plain": [
       "'major'"
      ]
     },
     "execution_count": 66,
     "metadata": {},
     "output_type": "execute_result"
    }
   ],
   "source": [
    "nlp.vocab.strings[8334407161178086546]"
   ]
  },
  {
   "cell_type": "code",
   "execution_count": 69,
   "metadata": {},
   "outputs": [
    {
     "name": "stdout",
     "output_type": "stream",
     "text": [
      "major\n",
      "8334407161178086546\n",
      "True\n",
      "True\n"
     ]
    }
   ],
   "source": [
    "print(nlp.vocab[\"major\"].text)\n",
    "print(nlp.vocab[\"major\"].orth)\n",
    "print(nlp.vocab[\"major\"].is_alpha)\n",
    "print(nlp.vocab[\"major\"].is_lower)"
   ]
  },
  {
   "cell_type": "markdown",
   "metadata": {},
   "source": [
    "# 🔗 Word Embedding"
   ]
  },
  {
   "cell_type": "markdown",
   "metadata": {},
   "source": [
    "## Word Representation in Embedding Space"
   ]
  },
  {
   "cell_type": "code",
   "execution_count": 75,
   "metadata": {},
   "outputs": [
    {
     "data": {
      "text/plain": [
       "(300,)"
      ]
     },
     "execution_count": 75,
     "metadata": {},
     "output_type": "execute_result"
    }
   ],
   "source": [
    "nlp(\"major\").vector.shape"
   ]
  },
  {
   "cell_type": "code",
   "execution_count": 76,
   "metadata": {},
   "outputs": [
    {
     "data": {
      "text/plain": [
       "array([  2.1326  ,   0.8682  ,   3.2518  ,  -0.15306 ,   5.3951  ,\n",
       "         1.268   ,   0.62323 ,   6.0236  ,   1.9574  ,  -6.191   ,\n",
       "         4.1726  ,   2.7965  ,  -5.2525  ,   0.53829 ,   1.865   ,\n",
       "         7.8972  ,   3.1153  ,  -0.70744 ,   2.3526  ,   1.1263  ,\n",
       "         0.30384 ,  -0.51894 ,  -0.28456 ,   1.1389  ,   0.54148 ,\n",
       "        -0.66436 ,  -4.2116  ,  -3.2915  ,   4.7275  ,   0.70571 ,\n",
       "         1.2935  ,   1.4519  ,  -0.74874 ,  -1.5491  ,  -5.0295  ,\n",
       "        -4.0992  ,  -0.53117 ,   2.06    ,  -3.6052  ,   0.503   ,\n",
       "         3.234   ,  -0.34483 ,   1.4491  ,  -0.80252 ,   0.89753 ,\n",
       "         1.8189  ,  -4.0104  ,  -0.15509 ,  -0.39501 ,   2.9293  ,\n",
       "        -5.7403  ,   2.0035  ,  -2.4766  ,  -1.6676  ,  -0.99693 ,\n",
       "         0.034003,   1.4266  ,   1.1297  ,   3.5961  ,   1.4989  ,\n",
       "         1.6947  ,  -0.49486 ,  -1.5931  ,  -0.97236 ,   3.2836  ,\n",
       "         3.6151  ,  -0.51977 ,   0.74662 ,   2.6169  ,   2.2358  ,\n",
       "        -0.0439  ,  -1.5985  ,  -6.3017  ,  -2.6076  ,   0.89428 ,\n",
       "         0.89076 ,  -0.16311 ,  -3.0771  ,   1.1703  ,   4.9872  ,\n",
       "        -5.0806  ,  -1.027   ,  -1.0543  ,   5.2102  ,   1.5077  ,\n",
       "        -0.53432 ,   0.68077 ,  -3.8766  ,   3.0567  ,   3.7324  ,\n",
       "        -0.40226 ,   2.0673  ,  -1.6313  ,   0.72286 ,  -0.092167,\n",
       "        -5.4797  ,   3.0604  ,   2.2334  ,  -0.9982  ,   6.5067  ,\n",
       "         7.4329  ,  -0.62332 ,   0.9625  ,   5.087   ,  -6.7395  ,\n",
       "         6.0079  ,   0.36721 ,   1.959   ,   1.6863  ,  -5.1986  ,\n",
       "         0.83767 ,   4.0407  ,  -1.5567  ,  -2.9585  ,  -0.58591 ,\n",
       "         0.15551 ,  -2.3129  ,  -3.2879  ,  -0.59462 ,  -1.773   ,\n",
       "         1.3064  ,  -5.937   ,   6.3537  ,   4.7691  ,  -2.8096  ,\n",
       "        -3.2493  ,  -4.5086  ,  -0.7558  ,   0.32737 ,  -4.9667  ,\n",
       "        -1.7917  ,   3.2254  ,   6.8855  ,   1.2818  ,  -0.048863,\n",
       "         1.5365  ,  -0.11353 ,   5.0549  ,  -0.8961  ,  -6.689   ,\n",
       "         0.38552 ,   1.6705  ,   0.58091 ,   3.4054  ,  -0.85801 ,\n",
       "         4.6951  ,  -0.45405 ,  -0.13626 ,  -1.4648  ,   1.2836  ,\n",
       "         4.3332  ,   3.2972  ,   3.9602  ,   0.72729 ,  -3.8229  ,\n",
       "        -1.3215  ,   0.24405 ,   3.2108  ,  -3.4265  ,  -1.583   ,\n",
       "         0.50423 ,  -0.60314 ,   1.2716  ,   6.3949  ,  -4.5456  ,\n",
       "         2.296   ,   0.20996 ,   1.4056  ,   3.039   ,  -2.7032  ,\n",
       "         2.0775  ,   6.4313  ,   2.1993  ,   4.3512  ,  -2.0299  ,\n",
       "        -1.4107  ,  -1.9838  ,  -0.33516 ,  -1.4038  ,   2.367   ,\n",
       "        -3.4912  ,  -2.4319  ,   2.6616  ,  -0.38551 ,   1.2523  ,\n",
       "        -2.373   ,  -0.78637 ,   3.807   ,   0.64553 ,   2.421   ,\n",
       "         0.38748 ,  -5.0129  ,   3.1587  ,  -2.1971  ,  -1.1154  ,\n",
       "         5.1576  ,  -4.2365  ,  -3.1403  ,  -4.2378  ,   0.46575 ,\n",
       "         0.95206 ,  -9.4834  ,  -2.0269  ,  -4.3297  ,   7.0208  ,\n",
       "        -0.30848 ,  -1.6848  ,   4.6809  ,   1.7845  ,   1.7001  ,\n",
       "         4.8352  ,   1.5653  ,  -3.2097  ,   0.1308  ,   4.4604  ,\n",
       "         2.2022  ,   2.1744  ,  -8.6605  ,   0.47878 ,   1.2218  ,\n",
       "        -1.7148  ,   4.5985  ,  -2.7961  ,  -1.9489  ,  -5.6743  ,\n",
       "        -0.9392  ,  -0.64826 ,   0.9907  ,   3.0757  ,   4.8401  ,\n",
       "         7.2058  ,   2.803   ,   0.30348 ,   3.1719  ,   6.6253  ,\n",
       "         2.7591  ,  -1.3299  ,  -0.70665 ,  -4.8203  ,   0.81889 ,\n",
       "        -0.56893 ,   4.0941  ,  -1.5304  ,   0.72924 ,  -1.7571  ,\n",
       "        -0.11515 ,   2.7528  ,  -0.44004 ,  -1.3795  ,   3.6212  ,\n",
       "        -0.19213 ,  -3.4064  , -10.225   ,   4.6458  ,   0.9187  ,\n",
       "        -4.3983  ,   2.1764  ,  -3.6202  ,   0.29976 ,  -0.20268 ,\n",
       "        -1.2026  ,   6.3779  ,   5.8732  ,   6.4049  ,   3.2802  ,\n",
       "        -0.96971 ,   2.509   ,   6.6795  ,  -2.1592  ,   3.4753  ,\n",
       "        -1.9029  ,   1.3511  ,   6.7956  ,   1.2195  ,   0.71775 ,\n",
       "        -9.2364  ,   2.7039  ,  -4.3924  ,  -2.9868  ,   1.681   ,\n",
       "         4.0316  ,  -1.2485  ,   3.877   ,  -0.31476 ,   0.086811,\n",
       "         0.34508 ,   0.65543 ,  -1.0351  ,  -4.2348  ,   0.41571 ,\n",
       "        -2.0548  ,  -1.068   ,  -3.0234  ,   1.1514  ,  -4.2945  ,\n",
       "         3.739   ,   0.11264 ,  -4.5318  ,   1.0195  ,  -0.8147  ],\n",
       "      dtype=float32)"
      ]
     },
     "execution_count": 76,
     "metadata": {},
     "output_type": "execute_result"
    }
   ],
   "source": [
    "nlp(\"major\").vector"
   ]
  },
  {
   "cell_type": "markdown",
   "metadata": {},
   "source": [
    "## Average Word Respresentation in Embedding Space"
   ]
  },
  {
   "cell_type": "code",
   "execution_count": 77,
   "metadata": {},
   "outputs": [
    {
     "data": {
      "text/plain": [
       "(300,)"
      ]
     },
     "execution_count": 77,
     "metadata": {},
     "output_type": "execute_result"
    }
   ],
   "source": [
    "nlp(\"When Sebastian Thrun started working on self-driving cars\").vector.shape"
   ]
  },
  {
   "cell_type": "code",
   "execution_count": 78,
   "metadata": {},
   "outputs": [
    {
     "data": {
      "text/plain": [
       "array([-1.9587681 ,  0.22768912, -3.7847328 ,  1.8580348 ,  3.305572  ,\n",
       "       -0.91748303,  1.4065901 ,  3.6848862 , -0.75567305,  0.6324701 ,\n",
       "        1.2118471 ,  3.6899238 , -3.6640441 ,  1.8474171 ,  0.2004298 ,\n",
       "        1.1258616 ,  3.171399  ,  0.01279705,  0.74492204,  0.8504612 ,\n",
       "        1.1084371 ,  1.3266821 ,  0.96041584, -1.0251776 ,  0.7215211 ,\n",
       "       -0.73542607, -3.4276137 , -2.072732  ,  0.6211239 ,  0.77024204,\n",
       "       -2.613421  , -0.18507203,  0.7943541 , -2.3119862 ,  0.6918465 ,\n",
       "       -1.874637  , -0.194189  ,  0.893058  , -0.14742604, -1.57138   ,\n",
       "       -0.11396106, -1.0899041 ,  0.99155253,  2.362828  , -0.85148495,\n",
       "       -2.2445302 , -0.9464598 , -2.324143  ,  1.4878075 ,  1.9275539 ,\n",
       "        0.893494  ,  1.35953   , -2.156079  , -4.131925  , -1.293541  ,\n",
       "        1.1010559 ,  0.39936298, -0.15898699,  0.8579501 ,  0.55813897,\n",
       "        1.0692562 ,  0.31750196, -2.045574  ,  0.507221  , -0.66598   ,\n",
       "        0.07068102, -2.3957229 , -2.33611   , -0.8478979 ,  1.5400181 ,\n",
       "       -0.9754041 ,  0.14425707, -1.117273  , -1.712608  ,  1.877738  ,\n",
       "       -0.43822518, -0.06042297, -0.61018   , -1.6139151 ,  0.03769004,\n",
       "       -3.2887962 , -1.2922627 ,  1.2079663 ,  0.4087029 , -0.30312803,\n",
       "       -0.8980406 , -0.27076498, -3.0909588 ,  0.27315193, -3.5695653 ,\n",
       "       -2.3270168 , -0.546239  ,  0.40472704, -1.6300551 , -1.047382  ,\n",
       "       -0.578688  ,  2.359209  , -1.1162559 ,  1.216893  , -0.16730098,\n",
       "        1.1534121 ,  0.54420626,  2.659641  ,  3.8623002 ,  1.3109769 ,\n",
       "        2.136181  , -0.34029502,  0.40898076, -1.813597  , -3.965894  ,\n",
       "        1.8602768 ,  0.70393   , -1.411288  , -1.190759  ,  2.0306938 ,\n",
       "        1.7054386 , -2.059993  , -2.175619  ,  1.170886  , -2.4113598 ,\n",
       "       -1.5574319 , -2.819223  , -0.32946402, -1.0397289 , -0.46639904,\n",
       "       -1.19399   ,  1.9124572 , -3.068111  ,  2.591997  , -1.3787991 ,\n",
       "       -3.2379951 , -0.56090003,  3.0378582 ,  0.40911603, -0.18079785,\n",
       "       -0.03512499, -2.483352  ,  0.321746  ,  3.9838815 ,  1.028336  ,\n",
       "        0.86809665, -2.381597  ,  0.16959503, -0.363961  ,  2.6629179 ,\n",
       "        2.755309  , -2.419662  , -0.972527  ,  0.29455805,  1.8587997 ,\n",
       "        0.52277905,  1.1110837 ,  1.536182  ,  1.382457  , -1.051494  ,\n",
       "        0.761412  ,  2.300509  ,  0.18716331, -0.469361  , -1.5045874 ,\n",
       "       -1.7733253 , -3.1674848 , -0.492797  , -0.37705198, -2.5774212 ,\n",
       "       -0.19353601, -2.0470822 ,  0.62587404, -0.8759819 ,  1.3797251 ,\n",
       "       -0.7957291 ,  1.31204   ,  1.591819  , -0.24404737,  2.2907033 ,\n",
       "        1.8361089 , -0.9944167 , -0.16014199, -3.5367901 , -1.2375128 ,\n",
       "       -0.16408798,  0.736376  ,  2.3272953 , -1.8599899 , -1.3480964 ,\n",
       "        2.1519701 , -0.617856  ,  0.12199302,  0.49635094, -1.8734598 ,\n",
       "       -0.443494  , -0.34535804,  0.56647   , -0.98048097,  0.18649903,\n",
       "       -0.7079099 , -1.5649368 ,  0.22491202,  0.19298594,  0.16534398,\n",
       "       -1.9802139 , -2.080901  ,  1.4888198 , -0.87510717,  1.1056651 ,\n",
       "        0.347849  , -3.6690922 ,  2.4077122 , -1.2306709 , -1.6671    ,\n",
       "       -0.5474595 ,  0.4789937 ,  0.14827332,  0.86176795,  1.0688499 ,\n",
       "        0.88873595, -0.06507796, -1.8722191 , -1.5451499 ,  1.43788   ,\n",
       "       -1.959135  ,  0.19717404, -0.86665595, -0.12260997, -1.2098032 ,\n",
       "       -1.786176  ,  1.5462611 ,  1.60674   ,  1.201618  , -2.563346  ,\n",
       "        2.5577812 ,  0.63246596, -1.0533174 , -0.5433065 ,  2.8017492 ,\n",
       "        1.8051369 , -3.03992   ,  1.7110741 , -1.022415  ,  0.704955  ,\n",
       "       -1.799717  , -1.8781681 ,  0.45182705, -1.317895  , -0.88798   ,\n",
       "       -0.27650985, -3.2662492 ,  1.174652  , -1.7443159 ,  2.3821468 ,\n",
       "        0.7914281 ,  1.0799698 , -3.6872082 ,  1.8637381 , -1.1013858 ,\n",
       "       -0.18567002,  2.591988  ,  0.7328626 ,  1.271501  ,  1.7986591 ,\n",
       "        0.31580526,  6.228982  ,  1.973444  ,  2.440848  ,  2.9969342 ,\n",
       "       -1.4178269 , -1.007117  ,  0.883309  , -0.9283308 , -0.408204  ,\n",
       "        0.24312301, -1.4017    , -0.99863195, -1.3633621 ,  0.77425396,\n",
       "       -2.0788789 ,  1.9828848 ,  0.61685497,  0.21179906,  0.06868   ,\n",
       "        2.7859578 ,  1.5856472 ,  0.7444687 ,  0.48983783,  0.33218396,\n",
       "        0.12196557, -2.5979419 ,  0.51397765, -3.2279549 ,  0.633253  ,\n",
       "       -0.01159399, -1.120348  , -1.91832   , -1.3236921 , -2.1918328 ,\n",
       "       -0.560995  ,  1.8835881 ,  0.16316149, -1.8916187 , -1.0790188 ],\n",
       "      dtype=float32)"
      ]
     },
     "execution_count": 78,
     "metadata": {},
     "output_type": "execute_result"
    }
   ],
   "source": [
    "nlp(\"When Sebastian Thrun started working on self-driving cars\").vector"
   ]
  },
  {
   "cell_type": "markdown",
   "metadata": {},
   "source": [
    "# 🧮 Similarity"
   ]
  },
  {
   "cell_type": "code",
   "execution_count": 84,
   "metadata": {},
   "outputs": [],
   "source": [
    "doc1 = nlp(\"When Sebastian Thrun started working on self-driving cars\")\n",
    "doc2 = nlp(\"When Sebastian started working on self-driving cars\")\n",
    "doc3 = nlp(\"When Sebastian started working on self-driving cars\")\n",
    "doc4 = nlp(\"When you drive a car, you must be careful.\")"
   ]
  },
  {
   "cell_type": "code",
   "execution_count": 95,
   "metadata": {},
   "outputs": [
    {
     "name": "stdout",
     "output_type": "stream",
     "text": [
      "doc1 similarity with:\n",
      "- doc2 = 0.5630191054503384\n",
      "- doc3 = 0.9992232075383632\n",
      "- doc4 = 0.5630191054503384\n",
      "\n",
      "\n",
      "doc2 similarity with:\n",
      "- doc1 = 0.5630191054503384\n",
      "- doc3 = 0.5699144521054758\n",
      "- doc4 = 1.0\n",
      "\n",
      "\n",
      "doc3 similarity with:\n",
      "- doc1 = 0.9992232075383632\n",
      "- doc2 = 0.5699144521054758\n",
      "- doc4 = 0.5699144521054758\n",
      "\n",
      "\n",
      "doc4 similarity with:\n",
      "- doc1 = 0.5630191054503384\n",
      "- doc2 = 1.0\n",
      "- doc3 = 0.5699144521054758\n",
      "\n",
      "\n"
     ]
    }
   ],
   "source": [
    "for idx_i, doc_i in enumerate([doc1, doc2, doc3, doc4]):\n",
    "    print(f\"doc{ idx_i + 1 } similarity with:\")\n",
    "\n",
    "    for idx_j, doc_j in enumerate([doc1, doc2, doc3, doc4]):\n",
    "        print(f\"- doc{ idx_j + 1 } = { doc_i.similarity(doc_j) }\") if idx_i != idx_j else None\n",
    "\n",
    "    print(\"\\n\")"
   ]
  },
  {
   "cell_type": "code",
   "execution_count": null,
   "metadata": {},
   "outputs": [],
   "source": []
  }
 ],
 "metadata": {
  "kernelspec": {
   "display_name": "venv-spacy",
   "language": "python",
   "name": "python3"
  },
  "language_info": {
   "codemirror_mode": {
    "name": "ipython",
    "version": 3
   },
   "file_extension": ".py",
   "mimetype": "text/x-python",
   "name": "python",
   "nbconvert_exporter": "python",
   "pygments_lexer": "ipython3",
   "version": "3.10.12"
  }
 },
 "nbformat": 4,
 "nbformat_minor": 2
}
